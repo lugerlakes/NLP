{
 "cells": [
  {
   "cell_type": "markdown",
   "metadata": {},
   "source": [
    "## **LDA con Bigramas y Diagnóstico de Tópicos con Coherencia Semántica -  Natural Language Processing**\n",
    "-----------------------\n",
    "<div align=\"right\">\n",
    "\n",
    "</div>\n",
    "\n"
   ]
  },
  {
   "cell_type": "markdown",
   "metadata": {},
   "source": [
    "# **I.- Introducción**"
   ]
  },
  {
   "cell_type": "markdown",
   "metadata": {},
   "source": [
    "El análisis de texto es una técnica esencial en minería de datos y ciencia de datos, especialmente cuando se trata de grandes volúmenes de datos no estructurados. Una de las metodologías más robustas y ampliamente utilizadas en este ámbito es el Topic Modeling, para identificar y extraer temas subyacentes en un conjunto de documentos.\n",
    "\n",
    "El Topic Modeling se ha consolidado como una técnica estándar en el análisis de texto debido a su capacidad para manejar y procesar grandes volúmenes de datos textuales, lo cual es útil en contextos donde se necesita extraer información significativa.\n",
    "\n",
    "Una de las principales ventajas es su capacidad para identificar temas recurrentes en un corpus de documentos. Asimismo, a través de algoritmos como LDA (Latent Dirichlet Allocation) se pueden descubrir patrones temáticos que no son evidentes a simple vista, proporcionando insights valiosos y facilitando la comprensión del contenido.\n",
    "\n",
    "A diferencia de otros métodos de clasificación de texto, el Topic Modeling utiliza técnicas estadísticas para agrupar palabras y documentos de manera objetiva, permitiendo clasificar minimizando el sesgo humano y mejorando la fiabilidad de los resultados.\n",
    "\n",
    "En esta tarea se aplica Topic Modeling a un conjunto de datos de los cabildos provinciales, con el objetivo de identificar y etiquetar los temas predominantes (Tópicos). Además, a través de la incorporación de bigramas y el análisis de coherencia semántica, se busca mejorar la interpretabilidad y precisión de los modelos temáticos generados."
   ]
  },
  {
   "cell_type": "markdown",
   "metadata": {},
   "source": [
    "# **II.- Desarrollo**"
   ]
  },
  {
   "cell_type": "markdown",
   "metadata": {},
   "source": [
    "## **A.- Flujo de Trabajo**"
   ]
  },
  {
   "cell_type": "markdown",
   "metadata": {},
   "source": [
    "1. **Configuración inicial.**\n",
    "    - Importación de librerías\n",
    "    - Configuración de Stanza y NLTK\n",
    "\n",
    "2. **Carga y Preprocesamiento de Texto.**\n",
    "    - Carga del dataset.\n",
    "    - Lematización.\n",
    "    - Preprocesamiento de Texto.\n",
    "    - Definición y eliminación de stopwords.\n",
    "    - Filtro de oraciones con más de 2 palabras.\n",
    "    - Tokenización.\n",
    "\n",
    "3. **Ejecución de un modelo LDA incorporando Bigramas.**\n",
    "    - Creación de Bigramas y adición al Corpus.\n",
    "    - Diagnóstico de tópicos y elección de n° de tópicos y etiquetado.\n",
    "    \n",
    "4. **Evaluación del diagnóstico de tópicos mediante Coherencia Semántica.**\n",
    "    - Elección de formas de cálculo de Coherencia Semántica a utilizar.\n",
    "    - Evaluación del diagnóstico de tópicos.\n",
    "    - Resultados de Coherencia Semántica.\n",
    "    - Evaluación de la variabilidad en la Coherencia Semántica.\n"
   ]
  },
  {
   "cell_type": "markdown",
   "metadata": {},
   "source": [
    "## **B.- Configuración Inicial**"
   ]
  },
  {
   "cell_type": "markdown",
   "metadata": {},
   "source": [
    "### Importación de Librerías"
   ]
  },
  {
   "cell_type": "code",
   "execution_count": 1,
   "metadata": {},
   "outputs": [
    {
     "name": "stdout",
     "output_type": "stream",
     "text": [
      "Requirement already satisfied: gensim in c:\\users\\carlo\\anaconda3\\lib\\site-packages (4.3.0)\n",
      "Requirement already satisfied: numpy>=1.18.5 in c:\\users\\carlo\\anaconda3\\lib\\site-packages (from gensim) (1.24.4)\n",
      "Requirement already satisfied: scipy>=1.7.0 in c:\\users\\carlo\\anaconda3\\lib\\site-packages (from gensim) (1.10.1)\n",
      "Requirement already satisfied: smart-open>=1.8.1 in c:\\users\\carlo\\anaconda3\\lib\\site-packages (from gensim) (5.2.1)\n",
      "Requirement already satisfied: FuzzyTM>=0.4.0 in c:\\users\\carlo\\anaconda3\\lib\\site-packages (from gensim) (2.0.9)\n",
      "Requirement already satisfied: pandas in c:\\users\\carlo\\anaconda3\\lib\\site-packages (from FuzzyTM>=0.4.0->gensim) (1.5.3)\n",
      "Requirement already satisfied: pyfume in c:\\users\\carlo\\anaconda3\\lib\\site-packages (from FuzzyTM>=0.4.0->gensim) (0.3.4)\n",
      "Requirement already satisfied: python-dateutil>=2.8.1 in c:\\users\\carlo\\anaconda3\\lib\\site-packages (from pandas->FuzzyTM>=0.4.0->gensim) (2.8.2)\n",
      "Requirement already satisfied: pytz>=2020.1 in c:\\users\\carlo\\anaconda3\\lib\\site-packages (from pandas->FuzzyTM>=0.4.0->gensim) (2023.3.post1)\n",
      "Requirement already satisfied: simpful==2.12.0 in c:\\users\\carlo\\anaconda3\\lib\\site-packages (from pyfume->FuzzyTM>=0.4.0->gensim) (2.12.0)\n",
      "Requirement already satisfied: fst-pso==1.8.1 in c:\\users\\carlo\\anaconda3\\lib\\site-packages (from pyfume->FuzzyTM>=0.4.0->gensim) (1.8.1)\n",
      "Requirement already satisfied: miniful in c:\\users\\carlo\\anaconda3\\lib\\site-packages (from fst-pso==1.8.1->pyfume->FuzzyTM>=0.4.0->gensim) (0.0.6)\n",
      "Requirement already satisfied: six>=1.5 in c:\\users\\carlo\\anaconda3\\lib\\site-packages (from python-dateutil>=2.8.1->pandas->FuzzyTM>=0.4.0->gensim) (1.16.0)\n"
     ]
    },
    {
     "name": "stderr",
     "output_type": "stream",
     "text": [
      "WARNING: Error parsing requirements for setuptools-git: [Errno 2] No such file or directory: 'c:\\\\users\\\\carlo\\\\anaconda3\\\\lib\\\\site-packages\\\\setuptools_git-1.2.dist-info\\\\METADATA'\n"
     ]
    }
   ],
   "source": [
    "!pip install gensim"
   ]
  },
  {
   "cell_type": "code",
   "execution_count": 2,
   "metadata": {},
   "outputs": [
    {
     "name": "stdout",
     "output_type": "stream",
     "text": [
      "Requirement already satisfied: stanza in c:\\users\\carlo\\anaconda3\\lib\\site-packages (1.8.2)\n",
      "Requirement already satisfied: emoji in c:\\users\\carlo\\anaconda3\\lib\\site-packages (from stanza) (2.12.1)\n",
      "Requirement already satisfied: numpy in c:\\users\\carlo\\anaconda3\\lib\\site-packages (from stanza) (1.24.4)\n",
      "Requirement already satisfied: protobuf>=3.15.0 in c:\\users\\carlo\\anaconda3\\lib\\site-packages (from stanza) (5.27.2)\n",
      "Requirement already satisfied: requests in c:\\users\\carlo\\anaconda3\\lib\\site-packages (from stanza) (2.31.0)\n",
      "Requirement already satisfied: networkx in c:\\users\\carlo\\anaconda3\\lib\\site-packages (from stanza) (3.1)\n",
      "Requirement already satisfied: toml in c:\\users\\carlo\\anaconda3\\lib\\site-packages (from stanza) (0.10.2)\n",
      "Requirement already satisfied: torch>=1.3.0 in c:\\users\\carlo\\anaconda3\\lib\\site-packages (from stanza) (2.4.0)\n",
      "Requirement already satisfied: tqdm in c:\\users\\carlo\\anaconda3\\lib\\site-packages (from stanza) (4.65.0)\n",
      "Requirement already satisfied: filelock in c:\\users\\carlo\\anaconda3\\lib\\site-packages (from torch>=1.3.0->stanza) (3.13.1)\n",
      "Requirement already satisfied: typing-extensions>=4.8.0 in c:\\users\\carlo\\anaconda3\\lib\\site-packages (from torch>=1.3.0->stanza) (4.9.0)\n",
      "Requirement already satisfied: sympy in c:\\users\\carlo\\anaconda3\\lib\\site-packages (from torch>=1.3.0->stanza) (1.12)\n",
      "Requirement already satisfied: jinja2 in c:\\users\\carlo\\anaconda3\\lib\\site-packages (from torch>=1.3.0->stanza) (3.1.3)\n",
      "Requirement already satisfied: fsspec in c:\\users\\carlo\\anaconda3\\lib\\site-packages (from torch>=1.3.0->stanza) (2023.10.0)\n",
      "Requirement already satisfied: charset-normalizer<4,>=2 in c:\\users\\carlo\\anaconda3\\lib\\site-packages (from requests->stanza) (2.0.4)\n",
      "Requirement already satisfied: idna<4,>=2.5 in c:\\users\\carlo\\anaconda3\\lib\\site-packages (from requests->stanza) (3.4)\n",
      "Requirement already satisfied: urllib3<3,>=1.21.1 in c:\\users\\carlo\\anaconda3\\lib\\site-packages (from requests->stanza) (1.26.18)\n",
      "Requirement already satisfied: certifi>=2017.4.17 in c:\\users\\carlo\\anaconda3\\lib\\site-packages (from requests->stanza) (2024.2.2)\n",
      "Requirement already satisfied: colorama in c:\\users\\carlo\\anaconda3\\lib\\site-packages (from tqdm->stanza) (0.4.6)\n",
      "Requirement already satisfied: MarkupSafe>=2.0 in c:\\users\\carlo\\anaconda3\\lib\\site-packages (from jinja2->torch>=1.3.0->stanza) (2.1.3)\n",
      "Requirement already satisfied: mpmath>=0.19 in c:\\users\\carlo\\anaconda3\\lib\\site-packages (from sympy->torch>=1.3.0->stanza) (1.3.0)\n"
     ]
    },
    {
     "name": "stderr",
     "output_type": "stream",
     "text": [
      "WARNING: Error parsing requirements for setuptools-git: [Errno 2] No such file or directory: 'c:\\\\users\\\\carlo\\\\anaconda3\\\\lib\\\\site-packages\\\\setuptools_git-1.2.dist-info\\\\METADATA'\n"
     ]
    }
   ],
   "source": [
    "!pip install stanza"
   ]
  },
  {
   "cell_type": "code",
   "execution_count": 3,
   "metadata": {},
   "outputs": [],
   "source": [
    "import pandas as pd\n",
    "import string\n",
    "import stanza\n",
    "from nltk.corpus import stopwords\n",
    "from nltk.tokenize import word_tokenize\n",
    "import gensim\n",
    "import gensim.corpora as corpora\n",
    "from gensim.models import Phrases, CoherenceModel, LdaModel\n",
    "import matplotlib.pyplot as plt\n",
    "from gensim.models import TfidfModel\n",
    "from gensim.models.phrases import Phrases, Phraser\n",
    "\n"
   ]
  },
  {
   "cell_type": "markdown",
   "metadata": {},
   "source": [
    "### Configuración de Stanza y Natural Language ToolKit"
   ]
  },
  {
   "cell_type": "code",
   "execution_count": 4,
   "metadata": {},
   "outputs": [
    {
     "data": {
      "application/vnd.jupyter.widget-view+json": {
       "model_id": "62b5faa1ebfc4c83b449d59498ab806a",
       "version_major": 2,
       "version_minor": 0
      },
      "text/plain": [
       "Downloading https://raw.githubusercontent.com/stanfordnlp/stanza-resources/main/resources_1.8.0.json:   0%|   …"
      ]
     },
     "metadata": {},
     "output_type": "display_data"
    },
    {
     "name": "stderr",
     "output_type": "stream",
     "text": [
      "2024-07-28 19:49:59 INFO: Downloaded file to C:\\Users\\carlo\\stanza_resources\\resources.json\n",
      "2024-07-28 19:49:59 INFO: Downloading default packages for language: es (Spanish) ...\n",
      "2024-07-28 19:50:00 INFO: File exists: C:\\Users\\carlo\\stanza_resources\\es\\default.zip\n",
      "2024-07-28 19:50:02 INFO: Finished downloading models and saved to C:\\Users\\carlo\\stanza_resources\n",
      "2024-07-28 19:50:02 INFO: Checking for updates to resources.json in case models have been updated.  Note: this behavior can be turned off with download_method=None or download_method=DownloadMethod.REUSE_RESOURCES\n"
     ]
    },
    {
     "data": {
      "application/vnd.jupyter.widget-view+json": {
       "model_id": "389480739d8640f0a10233a07c5dab4a",
       "version_major": 2,
       "version_minor": 0
      },
      "text/plain": [
       "Downloading https://raw.githubusercontent.com/stanfordnlp/stanza-resources/main/resources_1.8.0.json:   0%|   …"
      ]
     },
     "metadata": {},
     "output_type": "display_data"
    },
    {
     "name": "stderr",
     "output_type": "stream",
     "text": [
      "2024-07-28 19:50:03 INFO: Downloaded file to C:\\Users\\carlo\\stanza_resources\\resources.json\n",
      "2024-07-28 19:50:03 INFO: Loading these models for language: es (Spanish):\n",
      "=================================\n",
      "| Processor | Package           |\n",
      "---------------------------------\n",
      "| tokenize  | combined          |\n",
      "| mwt       | combined          |\n",
      "| pos       | combined_charlm   |\n",
      "| lemma     | combined_nocharlm |\n",
      "| depparse  | combined_charlm   |\n",
      "=================================\n",
      "\n",
      "2024-07-28 19:50:03 INFO: Using device: cpu\n",
      "2024-07-28 19:50:03 INFO: Loading: tokenize\n",
      "c:\\Users\\carlo\\anaconda3\\lib\\site-packages\\stanza\\models\\tokenization\\trainer.py:82: FutureWarning: You are using `torch.load` with `weights_only=False` (the current default value), which uses the default pickle module implicitly. It is possible to construct malicious pickle data which will execute arbitrary code during unpickling (See https://github.com/pytorch/pytorch/blob/main/SECURITY.md#untrusted-models for more details). In a future release, the default value for `weights_only` will be flipped to `True`. This limits the functions that could be executed during unpickling. Arbitrary objects will no longer be allowed to be loaded via this mode unless they are explicitly allowlisted by the user via `torch.serialization.add_safe_globals`. We recommend you start setting `weights_only=True` for any use case where you don't have full control of the loaded file. Please open an issue on GitHub for any issues related to this experimental feature.\n",
      "  checkpoint = torch.load(filename, lambda storage, loc: storage)\n",
      "2024-07-28 19:50:04 INFO: Loading: mwt\n",
      "c:\\Users\\carlo\\anaconda3\\lib\\site-packages\\stanza\\models\\mwt\\trainer.py:170: FutureWarning: You are using `torch.load` with `weights_only=False` (the current default value), which uses the default pickle module implicitly. It is possible to construct malicious pickle data which will execute arbitrary code during unpickling (See https://github.com/pytorch/pytorch/blob/main/SECURITY.md#untrusted-models for more details). In a future release, the default value for `weights_only` will be flipped to `True`. This limits the functions that could be executed during unpickling. Arbitrary objects will no longer be allowed to be loaded via this mode unless they are explicitly allowlisted by the user via `torch.serialization.add_safe_globals`. We recommend you start setting `weights_only=True` for any use case where you don't have full control of the loaded file. Please open an issue on GitHub for any issues related to this experimental feature.\n",
      "  checkpoint = torch.load(filename, lambda storage, loc: storage)\n",
      "2024-07-28 19:50:04 INFO: Loading: pos\n",
      "c:\\Users\\carlo\\anaconda3\\lib\\site-packages\\stanza\\models\\pos\\trainer.py:139: FutureWarning: You are using `torch.load` with `weights_only=False` (the current default value), which uses the default pickle module implicitly. It is possible to construct malicious pickle data which will execute arbitrary code during unpickling (See https://github.com/pytorch/pytorch/blob/main/SECURITY.md#untrusted-models for more details). In a future release, the default value for `weights_only` will be flipped to `True`. This limits the functions that could be executed during unpickling. Arbitrary objects will no longer be allowed to be loaded via this mode unless they are explicitly allowlisted by the user via `torch.serialization.add_safe_globals`. We recommend you start setting `weights_only=True` for any use case where you don't have full control of the loaded file. Please open an issue on GitHub for any issues related to this experimental feature.\n",
      "  checkpoint = torch.load(filename, lambda storage, loc: storage)\n",
      "c:\\Users\\carlo\\anaconda3\\lib\\site-packages\\stanza\\models\\common\\pretrain.py:56: FutureWarning: You are using `torch.load` with `weights_only=False` (the current default value), which uses the default pickle module implicitly. It is possible to construct malicious pickle data which will execute arbitrary code during unpickling (See https://github.com/pytorch/pytorch/blob/main/SECURITY.md#untrusted-models for more details). In a future release, the default value for `weights_only` will be flipped to `True`. This limits the functions that could be executed during unpickling. Arbitrary objects will no longer be allowed to be loaded via this mode unless they are explicitly allowlisted by the user via `torch.serialization.add_safe_globals`. We recommend you start setting `weights_only=True` for any use case where you don't have full control of the loaded file. Please open an issue on GitHub for any issues related to this experimental feature.\n",
      "  data = torch.load(self.filename, lambda storage, loc: storage)\n",
      "c:\\Users\\carlo\\anaconda3\\lib\\site-packages\\stanza\\models\\common\\char_model.py:271: FutureWarning: You are using `torch.load` with `weights_only=False` (the current default value), which uses the default pickle module implicitly. It is possible to construct malicious pickle data which will execute arbitrary code during unpickling (See https://github.com/pytorch/pytorch/blob/main/SECURITY.md#untrusted-models for more details). In a future release, the default value for `weights_only` will be flipped to `True`. This limits the functions that could be executed during unpickling. Arbitrary objects will no longer be allowed to be loaded via this mode unless they are explicitly allowlisted by the user via `torch.serialization.add_safe_globals`. We recommend you start setting `weights_only=True` for any use case where you don't have full control of the loaded file. Please open an issue on GitHub for any issues related to this experimental feature.\n",
      "  state = torch.load(filename, lambda storage, loc: storage)\n",
      "2024-07-28 19:50:04 INFO: Loading: lemma\n",
      "c:\\Users\\carlo\\anaconda3\\lib\\site-packages\\stanza\\models\\lemma\\trainer.py:236: FutureWarning: You are using `torch.load` with `weights_only=False` (the current default value), which uses the default pickle module implicitly. It is possible to construct malicious pickle data which will execute arbitrary code during unpickling (See https://github.com/pytorch/pytorch/blob/main/SECURITY.md#untrusted-models for more details). In a future release, the default value for `weights_only` will be flipped to `True`. This limits the functions that could be executed during unpickling. Arbitrary objects will no longer be allowed to be loaded via this mode unless they are explicitly allowlisted by the user via `torch.serialization.add_safe_globals`. We recommend you start setting `weights_only=True` for any use case where you don't have full control of the loaded file. Please open an issue on GitHub for any issues related to this experimental feature.\n",
      "  checkpoint = torch.load(filename, lambda storage, loc: storage)\n",
      "2024-07-28 19:50:04 INFO: Loading: depparse\n",
      "c:\\Users\\carlo\\anaconda3\\lib\\site-packages\\stanza\\models\\depparse\\trainer.py:194: FutureWarning: You are using `torch.load` with `weights_only=False` (the current default value), which uses the default pickle module implicitly. It is possible to construct malicious pickle data which will execute arbitrary code during unpickling (See https://github.com/pytorch/pytorch/blob/main/SECURITY.md#untrusted-models for more details). In a future release, the default value for `weights_only` will be flipped to `True`. This limits the functions that could be executed during unpickling. Arbitrary objects will no longer be allowed to be loaded via this mode unless they are explicitly allowlisted by the user via `torch.serialization.add_safe_globals`. We recommend you start setting `weights_only=True` for any use case where you don't have full control of the loaded file. Please open an issue on GitHub for any issues related to this experimental feature.\n",
      "  checkpoint = torch.load(filename, lambda storage, loc: storage)\n",
      "2024-07-28 19:50:04 INFO: Done loading processors!\n"
     ]
    }
   ],
   "source": [
    "stanza.download('es')\n",
    "nlp=stanza.Pipeline('es',processors='tokenize,mwt,pos,lemma,depparse')"
   ]
  },
  {
   "cell_type": "markdown",
   "metadata": {},
   "source": [
    "Se descargó el modelo en español para Stanza, el cual se utilizará para la etapa de lemmatización."
   ]
  },
  {
   "cell_type": "markdown",
   "metadata": {},
   "source": [
    "## **C.- Carga y Preprocesamiento de Texto**"
   ]
  },
  {
   "cell_type": "markdown",
   "metadata": {},
   "source": [
    "### Función para lemmatización"
   ]
  },
  {
   "cell_type": "code",
   "execution_count": 5,
   "metadata": {},
   "outputs": [],
   "source": [
    "def lemmatizer(text):\n",
    "    doc = nlp(text)\n",
    "    return ' '.join([word.lemma for sentence in doc.sentences for word in sentence.words])"
   ]
  },
  {
   "cell_type": "markdown",
   "metadata": {},
   "source": [
    "### Carga del dataset:"
   ]
  },
  {
   "cell_type": "code",
   "execution_count": 6,
   "metadata": {},
   "outputs": [],
   "source": [
    "cabildos = pd.read_excel('cabildos_subset.xlsx')"
   ]
  },
  {
   "cell_type": "code",
   "execution_count": 7,
   "metadata": {},
   "outputs": [
    {
     "data": {
      "text/html": [
       "<div>\n",
       "<style scoped>\n",
       "    .dataframe tbody tr th:only-of-type {\n",
       "        vertical-align: middle;\n",
       "    }\n",
       "\n",
       "    .dataframe tbody tr th {\n",
       "        vertical-align: top;\n",
       "    }\n",
       "\n",
       "    .dataframe thead th {\n",
       "        text-align: right;\n",
       "    }\n",
       "</style>\n",
       "<table border=\"1\" class=\"dataframe\">\n",
       "  <thead>\n",
       "    <tr style=\"text-align: right;\">\n",
       "      <th></th>\n",
       "      <th>fundamento</th>\n",
       "    </tr>\n",
       "  </thead>\n",
       "  <tbody>\n",
       "    <tr>\n",
       "      <th>407</th>\n",
       "      <td>QUE TODOS TENGAMOS LA POSIBILIDAD DE VIVIR Y D...</td>\n",
       "    </tr>\n",
       "  </tbody>\n",
       "</table>\n",
       "</div>"
      ],
      "text/plain": [
       "                                            fundamento\n",
       "407  QUE TODOS TENGAMOS LA POSIBILIDAD DE VIVIR Y D..."
      ]
     },
     "execution_count": 7,
     "metadata": {},
     "output_type": "execute_result"
    }
   ],
   "source": [
    "cabildos.sample()"
   ]
  },
  {
   "cell_type": "code",
   "execution_count": 8,
   "metadata": {},
   "outputs": [
    {
     "data": {
      "text/plain": [
       "3534"
      ]
     },
     "execution_count": 8,
     "metadata": {},
     "output_type": "execute_result"
    }
   ],
   "source": [
    "cabildos.size"
   ]
  },
  {
   "cell_type": "markdown",
   "metadata": {},
   "source": [
    "El dataset se compone de 3534 documentos."
   ]
  },
  {
   "cell_type": "markdown",
   "metadata": {},
   "source": [
    "### Definición de stopwords con infinitivos y palabras específicas:"
   ]
  },
  {
   "cell_type": "code",
   "execution_count": 11,
   "metadata": {},
   "outputs": [
    {
     "name": "stderr",
     "output_type": "stream",
     "text": [
      "[nltk_data] Downloading package stopwords to\n",
      "[nltk_data]     C:\\Users\\carlo\\AppData\\Roaming\\nltk_data...\n",
      "[nltk_data]   Unzipping corpora\\stopwords.zip.\n"
     ]
    },
    {
     "data": {
      "text/plain": [
       "True"
      ]
     },
     "execution_count": 11,
     "metadata": {},
     "output_type": "execute_result"
    }
   ],
   "source": [
    "import nltk\n",
    "nltk.download('stopwords')"
   ]
  },
  {
   "cell_type": "code",
   "execution_count": 12,
   "metadata": {},
   "outputs": [],
   "source": [
    "infinitivos = ['ser', 'tener', 'deber', 'estar', 'hacer', 'poder', 'decir', 'ver', 'dar', 'saber', 'querer', 'llegar', 'pasar', 'deber', 'poner', 'parecer', 'quedar', 'creer', 'hablar', 'llevar', 'dejar', 'seguir', 'encontrar', 'llamar', 'venir', 'pensar', 'salir', 'volver', 'tomar', 'conocer', 'vivir', 'sentir', 'tratar', 'mirar', 'contar', 'empezar', 'esperar', 'buscar', 'existir', 'entrar', 'trabajar', 'escribir', 'perder', 'producir', 'ocurrir', 'entender', 'pedir', 'recibir', 'recordar', 'terminar', 'permitir', 'aparecer', 'conseguir', 'comenzar', 'servir', 'sacar', 'necesitar', 'mantener', 'resultar', 'leer', 'caer', 'cambiar', 'presentar', 'crear', 'abrir', 'considerar', 'oír', 'acabar', 'convertir', 'ganar', 'formar', 'traer', 'partir', 'morir', 'aceptar', 'realizar', 'suponer', 'comprender', 'lograr', 'explicar', 'preguntar', 'tocar', 'reconocer', 'estudiar', 'alcanzar', 'nacer', 'dirigir', 'correr', 'utilizar', 'pagar', 'ayudar', 'gustar', 'jugar', 'escuchar', 'cumplir', 'ofrecer', 'descubrir', 'levantar', 'intentar', 'usar', 'decidir', 'repetir', 'olvidar', 'valer', 'comer', 'mostrar', 'ocupar', 'mover', 'continuar', 'aprender', 'comprar', 'subir', 'evitar', 'interesar', 'cerrar', 'comprobar', 'apoyar', 'negar', 'aceptar', 'proponer', 'enseñar', 'desarrollar', 'aumentar', 'superar', 'elegir', 'establecer', 'responder', 'actuar', 'añadir', 'marcar', 'atender', 'descubrir', 'probar', 'representar', 'solicitar', 'avanzar', 'levantar', 'entregar', 'proteger', 'fomentar', 'ocultar', 'atacar', 'escoger', 'declarar', 'vender', 'mencionar', 'dirigir', 'intervenir', 'asegurar', 'disponer', 'plantear', 'generar', 'identificar', 'aportar', 'proporcionar']\n",
    "palabras_remover = ['estado', 'estados']\n",
    "esp_stop = set(stopwords.words('spanish') + infinitivos + palabras_remover)\n"
   ]
  },
  {
   "cell_type": "markdown",
   "metadata": {},
   "source": [
    "Se definieron palabras que no aportan valor semántico significativo y que pueden introducir ruido en el modelo. Además de los stopwords, se agregaron ciertos infinitivos y palabras específicas que son frecuentes pero no informativas en el contexto de los cabildos provinciales."
   ]
  },
  {
   "cell_type": "markdown",
   "metadata": {},
   "source": [
    "### Lemmatización"
   ]
  },
  {
   "cell_type": "code",
   "execution_count": 13,
   "metadata": {},
   "outputs": [],
   "source": [
    "cabildos['lemma'] = cabildos['fundamento'].apply(lemmatizer)"
   ]
  },
  {
   "cell_type": "markdown",
   "metadata": {},
   "source": [
    "Se reducieron las palabras a su forma base o raíz, eliminando las variaciones morfológicas."
   ]
  },
  {
   "cell_type": "markdown",
   "metadata": {},
   "source": [
    "### Preprocesamiento de Texto"
   ]
  },
  {
   "cell_type": "code",
   "execution_count": 14,
   "metadata": {},
   "outputs": [],
   "source": [
    "cabildos['lemma']=cabildos['lemma'].apply(lambda x: x.lower())\n",
    "cabildos['lemma']=cabildos['lemma'].apply(lambda x: x.translate(str.maketrans('', '', string.punctuation)))\n",
    "cabildos['lemma']=cabildos['lemma'].apply(lambda x: x.translate(str.maketrans('', '', string.digits)))\n",
    "cabildos['lemma']=cabildos['lemma'].apply(lambda x: x.strip())\n",
    "cabildos['lemma']=cabildos['lemma'].apply(lambda x: x.replace('\\n',' '))"
   ]
  },
  {
   "cell_type": "markdown",
   "metadata": {},
   "source": [
    "El preprocesamiento realizado transforma el texto en una forma uniforme y limpia, eliminando elementos innecesarios que podrían introducir ruido en el análisis, tales como: puntuación, dígitos, espacios en blanco al principio y al final, saltos de línea, entre otros."
   ]
  },
  {
   "cell_type": "markdown",
   "metadata": {},
   "source": [
    "### Eliminación de Stopwords"
   ]
  },
  {
   "cell_type": "code",
   "execution_count": 15,
   "metadata": {},
   "outputs": [],
   "source": [
    "cabildos['lemma'] = cabildos['lemma'].apply(lambda x: ' '.join([word for word in x.split() if word not in esp_stop]))"
   ]
  },
  {
   "cell_type": "markdown",
   "metadata": {},
   "source": [
    "### Filtro de oraciones con más de 2 palabras"
   ]
  },
  {
   "cell_type": "code",
   "execution_count": 16,
   "metadata": {},
   "outputs": [],
   "source": [
    "cabildos=cabildos[[len(x.split())>2 for x in cabildos.lemma]]     \n",
    "cabildos = cabildos.reset_index(drop=True)"
   ]
  },
  {
   "cell_type": "code",
   "execution_count": 18,
   "metadata": {},
   "outputs": [
    {
     "name": "stderr",
     "output_type": "stream",
     "text": [
      "[nltk_data] Downloading package punkt to\n",
      "[nltk_data]     C:\\Users\\carlo\\AppData\\Roaming\\nltk_data...\n",
      "[nltk_data]   Unzipping tokenizers\\punkt.zip.\n"
     ]
    },
    {
     "data": {
      "text/plain": [
       "True"
      ]
     },
     "execution_count": 18,
     "metadata": {},
     "output_type": "execute_result"
    }
   ],
   "source": [
    "import nltk\n",
    "nltk.download('punkt')"
   ]
  },
  {
   "cell_type": "markdown",
   "metadata": {},
   "source": [
    "### Tokenización"
   ]
  },
  {
   "cell_type": "code",
   "execution_count": 19,
   "metadata": {},
   "outputs": [],
   "source": [
    "cabildos['tokenized']=cabildos['lemma'].apply(word_tokenize)"
   ]
  },
  {
   "cell_type": "code",
   "execution_count": 20,
   "metadata": {},
   "outputs": [
    {
     "data": {
      "text/plain": [
       "7479"
      ]
     },
     "execution_count": 20,
     "metadata": {},
     "output_type": "execute_result"
    }
   ],
   "source": [
    "cabildos.size"
   ]
  },
  {
   "cell_type": "code",
   "execution_count": 21,
   "metadata": {},
   "outputs": [
    {
     "data": {
      "text/plain": [
       "[['garantizar',\n",
       "  'red',\n",
       "  'atención',\n",
       "  'salud',\n",
       "  'persona',\n",
       "  'estandar',\n",
       "  'calidad',\n",
       "  'hincapie',\n",
       "  'existencia',\n",
       "  'especialista',\n",
       "  'regio',\n",
       "  'país',\n",
       "  'aquel',\n",
       "  'profesional',\n",
       "  'recurso',\n",
       "  'público',\n",
       "  'incluir',\n",
       "  'salud',\n",
       "  'holistico',\n",
       "  'mejorar'],\n",
       " ['gobernar',\n",
       "  'sociedad',\n",
       "  'acción',\n",
       "  'garantizar',\n",
       "  'justicia',\n",
       "  'discriminación',\n",
       "  'persona'],\n",
       " ['garantizado', 'constitución', 'país'],\n",
       " ['seguridad',\n",
       "  'leyes',\n",
       "  'social',\n",
       "  'leyes',\n",
       "  'penales',\n",
       "  'leyes',\n",
       "  'polttica',\n",
       "  'pública'],\n",
       " ['garantizado', 'gratuita', 'calidad', 'laico', 'sexista'],\n",
       " ['familia',\n",
       "  'condición',\n",
       "  'confort',\n",
       "  'básico',\n",
       "  'luz',\n",
       "  'agua',\n",
       "  'espacio',\n",
       "  'persona'],\n",
       " ['independiente',\n",
       "  'parcial',\n",
       "  'juez',\n",
       "  'sociedad',\n",
       "  'justicia',\n",
       "  'jerárquico',\n",
       "  'juez',\n",
       "  'manera',\n",
       "  'democratico',\n",
       "  'vinculado',\n",
       "  'sociedad'],\n",
       " ['promover',\n",
       "  'mayor',\n",
       "  'descentralización',\n",
       "  'transparencia',\n",
       "  'distinto',\n",
       "  'región',\n",
       "  'comuna',\n",
       "  'territorio',\n",
       "  'derecho',\n",
       "  'legitimo'],\n",
       " ['entendida',\n",
       "  'consecuencia',\n",
       "  'ejercicio',\n",
       "  'igualdad',\n",
       "  'ley',\n",
       "  'implicar',\n",
       "  'vacer',\n",
       "  'económico',\n",
       "  'persona',\n",
       "  'eximir',\n",
       "  'juicio',\n",
       "  'justo'],\n",
       " ['elección',\n",
       "  'intendente',\n",
       "  'gobernadores',\n",
       "  'santiago',\n",
       "  'realidad',\n",
       "  'decisión',\n",
       "  'respectivo',\n",
       "  'región',\n",
       "  'provincia',\n",
       "  'comuna',\n",
       "  'impuesto',\n",
       "  'realmente',\n",
       "  'beneficiar',\n",
       "  'lugar',\n",
       "  'comuna',\n",
       "  'central',\n",
       "  'distribuir',\n",
       "  'región',\n",
       "  'provincia',\n",
       "  'comun'],\n",
       " ['muerte', 'digno', 'eutanasia', 'vejez', 'digno', 'calidad', 'vida'],\n",
       " ['concepto', 'amplio', 'problema', 'radicar', 'aplicar', 'igual'],\n",
       " ['derecho',\n",
       "  'vida',\n",
       "  'obligar',\n",
       "  'derecho',\n",
       "  'propio',\n",
       "  'vida',\n",
       "  'derecho',\n",
       "  'manera',\n",
       "  'digno',\n",
       "  'enfermedad'],\n",
       " ['gratuita',\n",
       "  'calidad',\n",
       "  'inclusión',\n",
       "  'niño',\n",
       "  'capacidad',\n",
       "  'diferente',\n",
       "  'incluir',\n",
       "  'capacitación',\n",
       "  'persona',\n",
       "  'base',\n",
       "  'desarrollo',\n",
       "  'persona',\n",
       "  'país',\n",
       "  'preescolar',\n",
       "  'escolar',\n",
       "  'medio',\n",
       "  'sistema',\n",
       "  'público',\n",
       "  'menos',\n",
       "  'acotar',\n",
       "  'incluir',\n",
       "  'derecho'],\n",
       " ['necesario',\n",
       "  'favorecer',\n",
       "  'desarrollo',\n",
       "  'región',\n",
       "  'acuerdo',\n",
       "  'necesidad',\n",
       "  'local',\n",
       "  'sugerir',\n",
       "  'creación',\n",
       "  'macrozona',\n",
       "  'económico',\n",
       "  'así',\n",
       "  'facilitar',\n",
       "  'distribución',\n",
       "  'recurso',\n",
       "  'forma',\n",
       "  'ptoporcional',\n",
       "  'garantizar',\n",
       "  'además',\n",
       "  'autonomía',\n",
       "  'región'],\n",
       " ['condición',\n",
       "  'mínimo',\n",
       "  'mínimo',\n",
       "  'm',\n",
       "  'superficie',\n",
       "  'adecuado',\n",
       "  'construcción',\n",
       "  'ánimo',\n",
       "  'lucro'],\n",
       " ['dos',\n",
       "  'postura',\n",
       "  'contrapuesta',\n",
       "  'haber',\n",
       "  'diferencia',\n",
       "  'justicia',\n",
       "  'civil',\n",
       "  'militar',\n",
       "  'ela',\n",
       "  'justicia',\n",
       "  'militar',\n",
       "  'perfeccionar',\n",
       "  'agregar',\n",
       "  'además',\n",
       "  'cometario',\n",
       "  'justicia',\n",
       "  'igual',\n",
       "  'respecto',\n",
       "  'cultura',\n",
       "  'indigeno'],\n",
       " ['sólo',\n",
       "  'persona',\n",
       "  'acuerdo',\n",
       "  'principio',\n",
       "  'acuerdo',\n",
       "  'agregar',\n",
       "  'derecho',\n",
       "  'vida',\n",
       "  'humanoo'],\n",
       " ['grupo', 'acuerdo', 'garantizar', 'chileno', 'derecho'],\n",
       " ['importante',\n",
       "  'escrito',\n",
       "  'constitución',\n",
       "  'rol',\n",
       "  'subsidiario',\n",
       "  'protecto',\n",
       "  'derecho'],\n",
       " ['corresponde',\n",
       "  'modo',\n",
       "  'vida',\n",
       "  'valor',\n",
       "  'regir',\n",
       "  'público',\n",
       "  'institucionalidad',\n",
       "  'acceso',\n",
       "  'igualitario',\n",
       "  'imparcial',\n",
       "  'contemplado',\n",
       "  'garantía',\n",
       "  'constitucional'],\n",
       " ['mayor',\n",
       "  'atribución',\n",
       "  'gobierno',\n",
       "  'local',\n",
       "  'dotar',\n",
       "  'mayor',\n",
       "  'ingreso',\n",
       "  'comuna',\n",
       "  'concretar',\n",
       "  'descentralización',\n",
       "  'mayor',\n",
       "  'hincapie',\n",
       "  'gobierno',\n",
       "  'local'],\n",
       " ['garantizar', 'acceso', 'universal', 'servicio', 'salud', 'calidad'],\n",
       " ['poqrue',\n",
       "  'carta',\n",
       "  'fundamental',\n",
       "  'garantizar',\n",
       "  'derecho',\n",
       "  'humano',\n",
       "  'básico',\n",
       "  'vida',\n",
       "  'integridad',\n",
       "  'físico',\n",
       "  'psíquico',\n",
       "  'acuerdo',\n",
       "  'tres',\n",
       "  'causal',\n",
       "  'anteproyecto',\n",
       "  'ley',\n",
       "  'aborto'],\n",
       " ['derecho',\n",
       "  'consagrar',\n",
       "  'otorgar',\n",
       "  'estabilidad',\n",
       "  'ciudadano',\n",
       "  'país',\n",
       "  'ende',\n",
       "  'contemplado',\n",
       "  'constitución'],\n",
       " ['depender',\n",
       "  'gobierno',\n",
       "  'turno',\n",
       "  'apoyo',\n",
       "  'subsidio',\n",
       "  'distinto',\n",
       "  'expresión',\n",
       "  'educativo',\n",
       "  'haber',\n",
       "  'participación',\n",
       "  'diseño',\n",
       "  'educación',\n",
       "  'garante',\n",
       "  'derecho',\n",
       "  'educación',\n",
       "  'dañar',\n",
       "  'libertad',\n",
       "  'enseñanza',\n",
       "  'valoración',\n",
       "  'oficio',\n",
       "  'padre'],\n",
       " ['fortalecer',\n",
       "  'acceso',\n",
       "  'participación',\n",
       "  'consejo',\n",
       "  'consultivo',\n",
       "  'ciudadanía'],\n",
       " ['acceso', 'salud', 'calidad'],\n",
       " ['acuerdo', 'educacion', 'calidad', 'infancia', 'superior'],\n",
       " ['velar', 'ciudadano', 'humanidad']]"
      ]
     },
     "execution_count": 21,
     "metadata": {},
     "output_type": "execute_result"
    }
   ],
   "source": [
    "cabildos.sample(30).tokenized.tolist()"
   ]
  },
  {
   "cell_type": "markdown",
   "metadata": {},
   "source": [
    "## **D.- Ejecución de un modelo LDA incorporando bigramas**"
   ]
  },
  {
   "cell_type": "markdown",
   "metadata": {},
   "source": [
    "### **1.- Creación de Bigramas y adición al corpus**"
   ]
  },
  {
   "cell_type": "markdown",
   "metadata": {},
   "source": [
    "#### Creación de Bigramas:"
   ]
  },
  {
   "cell_type": "code",
   "execution_count": 22,
   "metadata": {},
   "outputs": [],
   "source": [
    "bigram = Phrases(cabildos['tokenized'], min_count=3, threshold=6)\n",
    "bigram_mod = Phraser(bigram)"
   ]
  },
  {
   "cell_type": "markdown",
   "metadata": {},
   "source": [
    "- En este caso se eligió el hiperparámetro **min_count=3**, es decir, se consideran aquellos pares de palabras que aparecen juntos al menos tres veces en el corpus, eliminando de esta forma bigramas poco frecuentes que podrían no ser significativos, mientras se identifican combinaciones de palabras que ocurren con suficiente frecuencia para ser relevantes.\n",
    "\n",
    "- Respecto al hiperparámetro **threshold=6**, se está diciendo que el modelo debe estar bastante seguro de que un par de palabras es un bigrama significativo antes de aceptarlo, es decir, funciona como un filtro para que realmente los bigramas sean significativos y no solo coincidencias. Al igual que un filtro, un umbral más alto reduce el ruido y mejora la calidad de los bigramas seleccionados.\n"
   ]
  },
  {
   "cell_type": "markdown",
   "metadata": {},
   "source": [
    "#### Aplicación de Bigramas al texto tokenizado:"
   ]
  },
  {
   "cell_type": "code",
   "execution_count": 23,
   "metadata": {},
   "outputs": [],
   "source": [
    "cabildos['bigrams'] = cabildos['tokenized'].apply(lambda doc: bigram_mod[doc])\n"
   ]
  },
  {
   "cell_type": "code",
   "execution_count": 24,
   "metadata": {},
   "outputs": [
    {
     "name": "stdout",
     "output_type": "stream",
     "text": [
      "['principio_valor', 'constitución', 'política', 'implicar', 'mayor', 'capacidad', 'toma_decisión', 'participación', 'distribución_recurso', 'región']\n",
      "['derecho', 'social', 'garantizado', 'educacion_publica', 'gratuita', 'obligatoria', 'laica', 'sexista', 'formacion', 'valorica', 'habito', 'funcion', 'bien_comun']\n",
      "['haber', 'acceso_igualitario', 'justicia', 'ley', 'pareja', 'dignidad_persona', 'aplicar', 'justicia']\n",
      "['santiago_chile', 'ingresar', 'valor_sino', 'organización']\n",
      "['provenga', 'ejecutivo', 'elección_autoridad', 'regional', 'descentralización', 'fiscal', 'recursos', 'distribución_equitativo', 'recurso', 'sociedad', 'mas', 'integrado']\n"
     ]
    }
   ],
   "source": [
    "for doc in cabildos['bigrams'].sample(5):\n",
    "    print(doc)\n"
   ]
  },
  {
   "cell_type": "markdown",
   "metadata": {},
   "source": [
    "#### Creación de Diccionario y Corpus utilizando los Bigramas:"
   ]
  },
  {
   "cell_type": "code",
   "execution_count": 25,
   "metadata": {},
   "outputs": [],
   "source": [
    "id2word = corpora.Dictionary(cabildos['bigrams'])\n",
    "texts = cabildos['bigrams']\n",
    "corpus = [id2word.doc2bow(text) for text in texts]"
   ]
  },
  {
   "cell_type": "markdown",
   "metadata": {},
   "source": [
    "### **2.- Diagnóstico de tópicos y elección de n° de tópicos para el modelo**\n"
   ]
  },
  {
   "cell_type": "markdown",
   "metadata": {},
   "source": [
    "#### Creación de matriz TF-iDF"
   ]
  },
  {
   "cell_type": "code",
   "execution_count": 26,
   "metadata": {},
   "outputs": [],
   "source": [
    "tfidf = TfidfModel(corpus)\n",
    "corpus_tfidf = tfidf[corpus]"
   ]
  },
  {
   "cell_type": "code",
   "execution_count": 27,
   "metadata": {},
   "outputs": [
    {
     "name": "stdout",
     "output_type": "stream",
     "text": [
      "[[(0, 1), (1, 1), (2, 1), (3, 1), (4, 1)]]\n"
     ]
    }
   ],
   "source": [
    "print(corpus[:1])"
   ]
  },
  {
   "cell_type": "markdown",
   "metadata": {},
   "source": [
    "#### Cálculo de coherencia del modelo LDA para diferentes números de tópicos:"
   ]
  },
  {
   "cell_type": "code",
   "execution_count": 28,
   "metadata": {},
   "outputs": [],
   "source": [
    "def compute_coherence_values(dictionary, corpus, texts, limit, start=2, step=1):\n",
    "    coherence_values = []\n",
    "    model_list = []\n",
    "    for num_topics in range(start, limit, step):\n",
    "        model = LdaModel(corpus=corpus, num_topics=num_topics, id2word=dictionary, random_state=42)\n",
    "        model_list.append(model)\n",
    "        coherencemodel = CoherenceModel(model=model, texts=texts, dictionary=dictionary, coherence='c_v')\n",
    "        coherence_values.append(coherencemodel.get_coherence())\n",
    "    return model_list, coherence_values"
   ]
  },
  {
   "cell_type": "code",
   "execution_count": 29,
   "metadata": {},
   "outputs": [],
   "source": [
    "model_list, coherence_values = compute_coherence_values(dictionary=id2word, corpus=corpus_tfidf, texts=cabildos['bigrams'], start=2, limit=12, step=1)"
   ]
  },
  {
   "cell_type": "markdown",
   "metadata": {},
   "source": [
    "#### Resultados de coherencia:"
   ]
  },
  {
   "cell_type": "code",
   "execution_count": 30,
   "metadata": {},
   "outputs": [
    {
     "data": {
      "image/png": "[encoded data removed]",
      "text/plain": [
       "<Figure size 640x480 with 1 Axes>"
      ]
     },
     "metadata": {},
     "output_type": "display_data"
    }
   ],
   "source": [
    "limit = 12; start = 2; step = 1\n",
    "x = range(start, limit, step)\n",
    "plt.plot(x, coherence_values)\n",
    "plt.xlabel(\"Número de Tópicos\")\n",
    "plt.ylabel(\"Coherencia\")\n",
    "plt.legend((\"coherencia\"), loc='best')\n",
    "plt.show()"
   ]
  },
  {
   "cell_type": "markdown",
   "metadata": {},
   "source": [
    "#### Justificación de la elección de número de tópicos elegido:\n",
    "La curva anterior indica cómo varía la coherencia del modelo LDA con diferentes números de tópicos. Se observa que los valores de coherencia semántica aumentan en 4, 6 y 8 tópicos, por lo tanto, se podrían elegir estas cantidades para entrenar los modelos LDA.\n",
    "\n",
    "- Con 4 tópicos podría ser más sencillo y más fácil de interpretar, pero podría no capturar toda la diversidad de temas.\n",
    "- 6 tópicos es un punto intermedio entre simplicidad y diversidad.\n",
    "- A su vez, con 8 tópicos puede que se capturen más temas, pero puede que se dificulte la interpretación.\n",
    "\n",
    "En el desafío se solicita solamente etiquetar cinco, por lo que reemplazaremos 4 por 5 tópicos, y de igual manera consideramos que es relevante evaluar los resultados de 6 y 8 tópicos."
   ]
  },
  {
   "cell_type": "markdown",
   "metadata": {},
   "source": [
    "### **3.- Ejecución del modelo LDA y etiquetado.**"
   ]
  },
  {
   "cell_type": "markdown",
   "metadata": {},
   "source": [
    "#### a.- Modelo LDA y etiquetado de 5 tópicos:"
   ]
  },
  {
   "cell_type": "code",
   "execution_count": 37,
   "metadata": {},
   "outputs": [
    {
     "name": "stdout",
     "output_type": "stream",
     "text": [
      "Topic 0: 0.024*\"derecho\" + 0.015*\"vivienda\" + 0.013*\"calidad\" + 0.013*\"región\" + 0.011*\"garantizar\" + 0.011*\"vida\" + 0.011*\"decisión\" + 0.009*\"territorial\" + 0.008*\"acceso\" + 0.008*\"recurso\"\n",
      "Topic 1: 0.057*\"calidad\" + 0.033*\"derecho\" + 0.017*\"educación\" + 0.015*\"salud\" + 0.015*\"garantizado\" + 0.014*\"justicia\" + 0.013*\"gratuito\" + 0.011*\"garantizar\" + 0.011*\"acceso\" + 0.009*\"universal\"\n",
      "Topic 2: 0.015*\"salud\" + 0.014*\"sistema\" + 0.014*\"digno\" + 0.011*\"recurso\" + 0.011*\"garantizar\" + 0.010*\"calidad\" + 0.008*\"justicia\" + 0.008*\"decisión\" + 0.008*\"derecho\" + 0.008*\"derecho_vida\"\n",
      "Topic 3: 0.034*\"derecho\" + 0.021*\"vida\" + 0.021*\"persona\" + 0.016*\"justicia\" + 0.012*\"garantizar\" + 0.011*\"región\" + 0.009*\"haber\" + 0.009*\"descentralización\" + 0.009*\"igualdad\" + 0.008*\"derecho_vida\"\n",
      "Topic 4: 0.026*\"derecho\" + 0.018*\"salud\" + 0.017*\"justicia\" + 0.015*\"valor\" + 0.015*\"acceso\" + 0.014*\"calidad\" + 0.013*\"concepto\" + 0.012*\"social\" + 0.010*\"persona\" + 0.009*\"importante\"\n"
     ]
    }
   ],
   "source": [
    "num_topics = 5\n",
    "lda_model = LdaModel(corpus=corpus, num_topics=num_topics, id2word=id2word, random_state=42)\n",
    "topics = lda_model.print_topics(num_words=10)\n",
    "for idx, topic in topics:\n",
    "    print(f'Topic {idx}: {topic}')"
   ]
  },
  {
   "cell_type": "markdown",
   "metadata": {},
   "source": [
    "- **Etiquetado de los 5 tópicos**:\n",
    "\n",
    "    - Tópico 0: **\"Derecho a la vivienda\"**: Se menciona frecuentemente \"derecho\", \"vivienda\", \"calidad\", \"región\", \"garantizar\", \"vida\", indicando un enfoque hacia el derecho a la vivienda digna y de calidad. Este énfasis subraya la importancia de garantizar condiciones de vida adecuadas en todas las regiones.\n",
    "\n",
    "    - Tópico 1: **\"Derecho a la educación de calidad\"**: El tópico 1 tiene como palabras clave \"calidad\" (con una fuerte componente), \"derecho\", \"educación\", \"salud\", \"garantizado\", \"justicia\" y \"gratuito\", por lo tanto tiene un enfoque claro en garantizar una educación de calidad y gratuita.\n",
    "\n",
    "    - Tópico 2: **\"Salud y Recursos\"**: En este caso se menciona \"salud\", \"sistema\", \"digno\", \"recurso\", \"garantizar\" y \"calidad\", por lo tanto, indica un enfoque en salud digna y de calidad, y que existan los recursos para financiarla.\n",
    "\n",
    "    - Tópico 3: **\"Justicia y Derechos Humanos\"**: las palabras \"derecho\", \"vida\", \"persona\", \"justicia\", \"garantizar\", \"región\" y \"descentralización\" indican que este tópico se centra en la justicia y los derechos humanos, con un leve enfoque territorial y de descentralización.\n",
    "\n",
    "    - Tópico 4: **\"Derecho a la salud\"**: las palabras \"derecho\", \"salud\", \"justicia\", \"valor\", \"acceso\" y \"calidad\" sugieren que se trata del derecho a la salud, abordado de una forma purista. "
   ]
  },
  {
   "cell_type": "markdown",
   "metadata": {},
   "source": [
    "#### b.- Modelo LDA y etiquetado de 6 tópicos:"
   ]
  },
  {
   "cell_type": "markdown",
   "metadata": {},
   "source": [
    "- **Ejecución del modelo LDA con 6 tópicos**."
   ]
  },
  {
   "cell_type": "code",
   "execution_count": 32,
   "metadata": {},
   "outputs": [
    {
     "name": "stdout",
     "output_type": "stream",
     "text": [
      "Topic 0: 0.024*\"derecho\" + 0.015*\"calidad\" + 0.014*\"vivienda\" + 0.014*\"región\" + 0.011*\"salud\" + 0.011*\"decisión\" + 0.010*\"garantizar\" + 0.010*\"territorial\" + 0.010*\"acceso\" + 0.009*\"vida\"\n",
      "Topic 1: 0.066*\"calidad\" + 0.040*\"derecho\" + 0.019*\"educación\" + 0.017*\"garantizado\" + 0.017*\"salud\" + 0.015*\"gratuito\" + 0.011*\"garantizar\" + 0.010*\"acceso\" + 0.009*\"educacion\" + 0.009*\"igualdad\"\n",
      "Topic 2: 0.018*\"digno\" + 0.016*\"salud\" + 0.013*\"derecho_vida\" + 0.013*\"sistema\" + 0.012*\"decisión\" + 0.010*\"recurso\" + 0.009*\"garantizar\" + 0.008*\"educación\" + 0.008*\"derecho\" + 0.008*\"concepto\"\n",
      "Topic 3: 0.042*\"derecho\" + 0.021*\"persona\" + 0.020*\"vida\" + 0.013*\"descentralización\" + 0.012*\"región\" + 0.012*\"garantizar\" + 0.009*\"salud\" + 0.009*\"económico\" + 0.008*\"justicia\" + 0.008*\"humano\"\n",
      "Topic 4: 0.031*\"derecho\" + 0.021*\"salud\" + 0.017*\"acceso\" + 0.016*\"calidad\" + 0.016*\"valor\" + 0.015*\"concepto\" + 0.013*\"justicia\" + 0.013*\"social\" + 0.011*\"persona\" + 0.009*\"importante\"\n",
      "Topic 5: 0.038*\"justicia\" + 0.016*\"persona\" + 0.014*\"vida\" + 0.013*\"garantizar\" + 0.011*\"derecho\" + 0.011*\"haber\" + 0.010*\"igualdad\" + 0.009*\"calidad\" + 0.008*\"constitución\" + 0.008*\"acuerdo\"\n"
     ]
    }
   ],
   "source": [
    "num_topics = 6\n",
    "lda_model = LdaModel(corpus=corpus, num_topics=num_topics, id2word=id2word, random_state=42)\n",
    "topics = lda_model.print_topics(num_words=10)\n",
    "for idx, topic in topics:\n",
    "    print(f'Topic {idx}: {topic}')"
   ]
  },
  {
   "cell_type": "markdown",
   "metadata": {},
   "source": [
    "- **Etiquetado de los 6 tópicos**:\n",
    "\n",
    "    - Tópico 0: **\"Derechos Regionales y Vivienda\"**: Este tópico incluye \"derecho\", \"vivienda\", \"región\" y \"territorial\", indicando un enfoque en los derechos a nivel regional y en la vivienda.\n",
    "\n",
    "    - Tópico 1: **\"Calidad y Educación\"**: Las palabras \"calidad\", \"derecho\", \"educación\" y \"salud\" tienen un enfoque en la calidad y la educación.\n",
    "\n",
    "    - Tópico 2: **\"Salud y Decisiones\"**: Se menciona en este tópico \"digno\", \"salud\", \"decisión\" y \"sistema\", por lo tanto, existe un enfoque en la salud y la toma de decisiones.\n",
    "\n",
    "    - Tópico 3: **\"Desentralización y Justicia\"**: las palabras \"derecho\", \"desentralización\", \"región\" y \"económico\" indican un enfoque en la desentralización y la justicia en términos económicos.\n",
    "    \n",
    "    - Tópico 4: **\"Acceso y Valores Sociales\"**: Las palabras \"derecho\", \"salud\", \"acceso\", \"valor\" y \"justicia\" sugieren un enfoque en el acceso a derechos y los valores sociales.\n",
    "\n",
    "    - Tópico 5: **\"Igualdad y Constitución\"**: En este tópico se menciona \"justicia\", \"persona\", \"vida\", \"derecho\", \"garantizar\", \"igualdad\" y \"constitución\", por lo tanto, este tópico tiene un enfoque en la igualdad y aspectos constitucionales."
   ]
  },
  {
   "cell_type": "markdown",
   "metadata": {},
   "source": [
    "#### c.- Modelo LDA y etiquetado de 8 tópicos:"
   ]
  },
  {
   "cell_type": "markdown",
   "metadata": {},
   "source": [
    "- **Ejecución del modelo LDA con 8 tópicos**."
   ]
  },
  {
   "cell_type": "code",
   "execution_count": 33,
   "metadata": {},
   "outputs": [
    {
     "name": "stdout",
     "output_type": "stream",
     "text": [
      "Topic 0: 0.031*\"derecho\" + 0.021*\"vivienda\" + 0.012*\"calidad\" + 0.012*\"necesidad\" + 0.012*\"vida\" + 0.011*\"territorial\" + 0.010*\"garantizar\" + 0.010*\"región\" + 0.009*\"recurso\" + 0.009*\"acceso\"\n",
      "Topic 1: 0.071*\"calidad\" + 0.041*\"derecho\" + 0.024*\"educación\" + 0.021*\"gratuito\" + 0.017*\"garantizado\" + 0.016*\"básico\" + 0.013*\"salud\" + 0.013*\"garantizar\" + 0.011*\"nivel\" + 0.008*\"acceso_universal\"\n",
      "Topic 2: 0.023*\"salud\" + 0.017*\"digno\" + 0.015*\"derecho_vida\" + 0.014*\"educación\" + 0.013*\"derecho\" + 0.012*\"decisión\" + 0.011*\"calidad\" + 0.010*\"sistema\" + 0.009*\"garantizada\" + 0.009*\"garantizar\"\n",
      "Topic 3: 0.044*\"derecho\" + 0.014*\"persona\" + 0.013*\"justicia\" + 0.012*\"región\" + 0.012*\"garantizar\" + 0.012*\"vida\" + 0.011*\"descentralización\" + 0.010*\"decisión\" + 0.010*\"valor\" + 0.009*\"respetar\"\n",
      "Topic 4: 0.031*\"derecho\" + 0.023*\"salud\" + 0.023*\"acceso\" + 0.015*\"concepto\" + 0.014*\"social\" + 0.013*\"justicia\" + 0.012*\"garantizado\" + 0.011*\"valor\" + 0.011*\"calidad\" + 0.011*\"fundamental\"\n",
      "Topic 5: 0.047*\"justicia\" + 0.014*\"derecho\" + 0.011*\"garantizar\" + 0.011*\"persona\" + 0.011*\"vida\" + 0.011*\"haber\" + 0.010*\"social\" + 0.010*\"igualdad\" + 0.010*\"acuerdo\" + 0.009*\"constitución\"\n",
      "Topic 6: 0.030*\"calidad\" + 0.026*\"vida\" + 0.023*\"salud\" + 0.017*\"derecho\" + 0.016*\"garantizar\" + 0.014*\"persona\" + 0.013*\"acceso\" + 0.009*\"sistema\" + 0.009*\"derecho_vida\" + 0.009*\"social\"\n",
      "Topic 7: 0.027*\"derecho\" + 0.020*\"persona\" + 0.013*\"calidad\" + 0.013*\"región\" + 0.012*\"concepto\" + 0.011*\"desarrollo\" + 0.010*\"decisión\" + 0.009*\"recurso\" + 0.009*\"valor\" + 0.009*\"importante\"\n"
     ]
    }
   ],
   "source": [
    "num_topics = 8\n",
    "lda_model = LdaModel(corpus=corpus, num_topics=num_topics, id2word=id2word, random_state=42)\n",
    "topics = lda_model.print_topics(num_words=10)\n",
    "for idx, topic in topics:\n",
    "    print(f'Topic {idx}: {topic}')"
   ]
  },
  {
   "cell_type": "markdown",
   "metadata": {},
   "source": [
    "- **Etiquetado de los 8 tópicos**:\n",
    "\n",
    "    - Tópico 0: **\"Derechos y Vivienda\"**: Este tópico incluye \"derecho\", \"vivienda\", \"calidad\" y \"vida\", indicando un enfoque en vivienda y calidad de vida.\n",
    "\n",
    "    - Tópico 1: **\"Calidad y Educación\"**: Las palabras \"calidad\", \"derecho\", \"educación\", \"gratuito\" y \"garantizado\" tienen un enfoque en la educación y el acceso gratuito\n",
    "\n",
    "    - Tópico 2: **\"Salud y Decisiones\"**: Se menciona en este tópico \"digno\", \"salud\", \"decisión\" y \"derecho_vida\", por lo tanto, existe un enfoque en la salud y la toma de decisiones relacionadas con la vida.\n",
    "\n",
    "    - Tópico 3: **\"Desentralización y Justicia\"**: las palabras \"derecho\", \"justicia\", \"región\" y \"desentralización\" indican un enfoque en la justicia y la desentralización.\n",
    "    \n",
    "    - Tópico 4: **\"Acceso y Valores Sociales\"**: Las palabras \"derecho\", \"salud\", \"acceso\" y \"social\" sugieren un enfoque en el acceso a derechos y los valores sociales.\n",
    "\n",
    "    - Tópico 5: **\"Justicia y Constitución\"**: En este tópico se menciona \"justicia\", \"derecho\", \"igualdad\" y \"constitución\", por lo tanto, este tópico tiene un enfoque en la igualdad y aspectos constitucionales.\n",
    "\n",
    "    - Tópico 6: **\"Calidad de Vida y Salud\"**: En este tópico se menciona \"calidad\", \"vida\", \"salud\" y \"derecho\", por lo tanto hay un enfoque en la calidad de vida y la salud.\n",
    "\n",
    "    - Tópico 7: **\"Derechos y Recursos\"**: En este tópico se menciona \"derecho\", \"persona\", \"calidad\", \"región\" y \"recurso\", por lo tanto, tiene un enfoque en los derechos de las personas y gestión de recursos regionales."
   ]
  },
  {
   "cell_type": "markdown",
   "metadata": {},
   "source": [
    "## **E.- Evaluación del diagnóstico de tópicos mediante coherencia semántica**"
   ]
  },
  {
   "cell_type": "markdown",
   "metadata": {},
   "source": [
    "A continuación se da a concer la evaluación del diagnóstico de tópicos obtenido mediante Coherencia Semántica para el modelo LDA entrenado con la combinación de tokens y bigramas."
   ]
  },
  {
   "cell_type": "markdown",
   "metadata": {},
   "source": [
    "### **1.- Formas de cálculo de Coherencia Semántica a utilizar**"
   ]
  },
  {
   "cell_type": "markdown",
   "metadata": {},
   "source": [
    "La Coherencia Semántica se utiliza para evaluar la calidad de los tópicos generados por modelos de Topic Modeling, como LDA. En este contexto, Gensim incorpora varias formas de calcular la Coherencia Semántica, a continuación se dan a conocer dos métodos que se utilizarán en esta tarea."
   ]
  },
  {
   "cell_type": "markdown",
   "metadata": {},
   "source": [
    "- El método **'u_mass'** calcula la Coherencia basándose en la probabilidad de co-ocurrencias de palabras dentro de un conjunto de documentos. Este método no requiere un corpus de texto adicional y se basa en estadísticas internas del modelo. Además, es especialmente útil para análisis exploratorios rápidos, aunque puede ser menos intuitivo que otros métodos que consideran la similitud semántica.\n",
    "    "
   ]
  },
  {
   "cell_type": "markdown",
   "metadata": {},
   "source": [
    "- El método **'c_v'** calcula la coherencia basándose en la similitud de pares de palabras en un espacio de palabras, utilizando un modelo de ventana deslizante. Este método combina varias métricas de similitud, incluidas las similitudes de palabras en un espacio vectorial y tiende a proporcionar resultados más intuitivos y consistentes. Además, es utilizado debido a su robustez y su capacidad para reflejar interpretabilidad de los tópicos."
   ]
  },
  {
   "cell_type": "markdown",
   "metadata": {},
   "source": [
    "*Referencia Bibliográfica: https://radimrehurek.com/gensim/models/coherencemodel.html*"
   ]
  },
  {
   "cell_type": "markdown",
   "metadata": {},
   "source": [
    "### **2.- Evaluación del diagnóstico de tópicos.**"
   ]
  },
  {
   "cell_type": "markdown",
   "metadata": {},
   "source": [
    "#### Cálculo de Coherencia Semántica para diferentes número de tópicos:"
   ]
  },
  {
   "cell_type": "code",
   "execution_count": 34,
   "metadata": {},
   "outputs": [],
   "source": [
    "limit = 12\n",
    "start = 2\n",
    "step = 1\n",
    "x = range(start, limit, step)\n",
    "\n",
    "coherence_values_u_mass = []\n",
    "coherence_values_c_v = []\n",
    "\n",
    "for num_topics in x:\n",
    "    model = LdaModel(corpus=corpus, num_topics=num_topics, id2word=id2word, random_state=42)\n",
    "    coherencemodel_u_mass = CoherenceModel(model=model, corpus=corpus_tfidf, dictionary=id2word, coherence='u_mass')\n",
    "    coherence_values_u_mass.append(coherencemodel_u_mass.get_coherence())\n",
    "    \n",
    "    coherencemodel_c_v = CoherenceModel(model=model, texts=cabildos['bigrams'], dictionary=id2word, coherence='c_v')\n",
    "    coherence_values_c_v.append(coherencemodel_c_v.get_coherence())"
   ]
  },
  {
   "cell_type": "code",
   "execution_count": 35,
   "metadata": {},
   "outputs": [
    {
     "data": {
      "image/png": "[encoded data removed]",
      "text/plain": [
       "<Figure size 1400x600 with 2 Axes>"
      ]
     },
     "metadata": {},
     "output_type": "display_data"
    }
   ],
   "source": [
    "fig, (ax1, ax2) = plt.subplots(1, 2, figsize=(14, 6))\n",
    "\n",
    "ax1.plot(x, coherence_values_u_mass, label='u_mass', color='blue')\n",
    "ax1.set_title('Coherencia Semántica: u_mass')\n",
    "ax1.set_xlabel(\"Número de Tópicos\")\n",
    "ax1.set_ylabel(\"Coherencia (u_mass)\")\n",
    "ax1.legend()\n",
    "\n",
    "ax2.plot(x, coherence_values_c_v, label='c_v', color='red')\n",
    "ax2.set_title('Coherencia Semántica: c_v')\n",
    "ax2.set_xlabel(\"Número de Tópicos\")\n",
    "ax2.set_ylabel(\"Coherencia (c_v)\")\n",
    "ax2.legend()\n",
    "\n",
    "plt.tight_layout()\n",
    "plt.show()"
   ]
  },
  {
   "cell_type": "markdown",
   "metadata": {},
   "source": [
    "#### Comparación de resultados de coherencia (u_mass vs c_v)"
   ]
  },
  {
   "cell_type": "markdown",
   "metadata": {},
   "source": [
    "- **Método 'u_mass'**\n",
    "    - El resultado de coherencia mediante 'u_mass' se basa en logaritmos de probabilidades, por lo tanto no es tan fácil de interpretar.\n",
    "    - Según este método de cálculo de coherencia semántica, mientras más tópicos se tiende a una menor coherencia.\n",
    "    - Es útil para evaluar la cogerencia interna de los temas, pero puede ser más sensible a la variabilidad en la frecuencia de palabras en el corpus.\n",
    "    - La gráfica señala como óptimo el uso de 2 tópicos (valor menos negativo)."
   ]
  },
  {
   "cell_type": "markdown",
   "metadata": {},
   "source": [
    "- **Método 'c_v'**\n",
    "    - En el caso de la evaluación de coherencia mediante 'c_v', se puede interpretar de forma más intuitiva, ya que los valores por lo general son entre 0 y 1.\n",
    "    - La gráfica del método 'c_v' muestra una tendencia ascendente, con un peak notable en 10 tópicos. La tendencia ascendente sugiere que la coherencia semántica mejora con un mayor número de tópicos."
   ]
  },
  {
   "cell_type": "markdown",
   "metadata": {},
   "source": [
    "En resumen, los resultados de la comparación muestran que estos varían bastante, debido a que estos usan diferentes metodologías para calcular la coherencia. U_Mass se basa en la frecuencia de co-ocurrencia en el documento, mientras que C_V utiliza un modelo de bigramas para capturar la coherencia en contextos más amplios. Otro factor importante es que la ventana de contexto para calcular la coherencia puede diferir entre las dos métricas. U_Mass utiliza una ventana fija en el corpus, mientras que C_V ajusta el cálculo según el contexto lingüístico proporcionado por el modelo de bigramas."
   ]
  },
  {
   "cell_type": "markdown",
   "metadata": {},
   "source": [
    "### **3.- Ejecución del modelo LDA y etiquetado con 10 tópicos.**"
   ]
  },
  {
   "cell_type": "markdown",
   "metadata": {},
   "source": [
    "En base al resultado obtenido en la evaluación de coherencia semántica mediante 'c_v' se pudo interpretar intuitivamente que con 10 tópicos se obtiene una mejor interpretación y coherencia. A continuación se entrena el modelo LDA con esta cantidad de tópicos y posteriormente se etiquetan los tópicos."
   ]
  },
  {
   "cell_type": "markdown",
   "metadata": {},
   "source": [
    "- **Ejecución del modelo LDA con 10 tópicos**."
   ]
  },
  {
   "cell_type": "code",
   "execution_count": 36,
   "metadata": {},
   "outputs": [
    {
     "name": "stdout",
     "output_type": "stream",
     "text": [
      "Topic 0: 0.026*\"derecho\" + 0.016*\"garantizar\" + 0.016*\"necesidad\" + 0.016*\"vivienda\" + 0.012*\"región\" + 0.010*\"territorio\" + 0.010*\"region\" + 0.010*\"autonomía\" + 0.010*\"territorial\" + 0.009*\"calidad\"\n",
      "Topic 1: 0.073*\"calidad\" + 0.044*\"derecho\" + 0.024*\"gratuito\" + 0.023*\"garantizado\" + 0.023*\"salud\" + 0.022*\"educación\" + 0.016*\"garantizar\" + 0.013*\"universal\" + 0.011*\"básico\" + 0.011*\"acceso\"\n",
      "Topic 2: 0.019*\"salud\" + 0.017*\"digno\" + 0.016*\"garantizar\" + 0.016*\"derecho_vida\" + 0.012*\"derecho\" + 0.012*\"aborto\" + 0.011*\"concepto\" + 0.010*\"brindar\" + 0.010*\"garantizar_acceso\" + 0.009*\"sistema\"\n",
      "Topic 3: 0.047*\"derecho\" + 0.017*\"persona\" + 0.011*\"región\" + 0.010*\"salud\" + 0.010*\"respetar\" + 0.010*\"descentralización\" + 0.009*\"económico\" + 0.009*\"vida\" + 0.009*\"ciudadano\" + 0.008*\"social\"\n",
      "Topic 4: 0.043*\"derecho\" + 0.027*\"salud\" + 0.024*\"acceso\" + 0.018*\"valor\" + 0.017*\"justicia\" + 0.016*\"calidad\" + 0.015*\"garantizar\" + 0.015*\"garantizado\" + 0.013*\"social\" + 0.013*\"fundamental\"\n",
      "Topic 5: 0.054*\"justicia\" + 0.013*\"haber\" + 0.013*\"igualdad\" + 0.012*\"vida\" + 0.011*\"decisión\" + 0.010*\"región\" + 0.010*\"recurso\" + 0.009*\"ley\" + 0.009*\"persona\" + 0.008*\"derecho\"\n",
      "Topic 6: 0.031*\"vida\" + 0.027*\"calidad\" + 0.025*\"persona\" + 0.025*\"garantizar\" + 0.016*\"salud\" + 0.015*\"derecho\" + 0.013*\"derecho_vida\" + 0.011*\"acceso\" + 0.010*\"acuerdo\" + 0.008*\"condición\"\n",
      "Topic 7: 0.021*\"región\" + 0.019*\"persona\" + 0.015*\"desarrollo\" + 0.014*\"decisión\" + 0.014*\"derecho\" + 0.013*\"descentralización\" + 0.011*\"principio\" + 0.010*\"concepto\" + 0.010*\"derechos\" + 0.010*\"haber\"\n",
      "Topic 8: 0.035*\"calidad\" + 0.021*\"vida\" + 0.020*\"salud\" + 0.017*\"acceso\" + 0.016*\"digno\" + 0.014*\"recurso\" + 0.013*\"derecho\" + 0.013*\"vivienda\" + 0.010*\"educación\" + 0.010*\"digna\"\n",
      "Topic 9: 0.048*\"derecho\" + 0.016*\"justicia\" + 0.015*\"calidad\" + 0.014*\"social\" + 0.013*\"educación\" + 0.012*\"concepto\" + 0.008*\"igualdad\" + 0.008*\"valor\" + 0.008*\"persona\" + 0.007*\"democracia\"\n"
     ]
    }
   ],
   "source": [
    "num_topics = 10\n",
    "lda_model = LdaModel(corpus=corpus, num_topics=num_topics, id2word=id2word, random_state=42)\n",
    "topics = lda_model.print_topics(num_words=10)\n",
    "for idx, topic in topics:\n",
    "    print(f'Topic {idx}: {topic}')"
   ]
  },
  {
   "cell_type": "markdown",
   "metadata": {},
   "source": [
    "- **Etiquetado de los 10 tópicos**:\n",
    "\n",
    "    - Tópico 0: **\"Derechos Regionales y Vivienda\"**: Este tópico incluye \"derecho\", \"garantizar\", \"necesidad\", \"vivienda\", \"región\" y \"autonomía\", indicando un enfoque en derechos a nivel regional y la vivienda.\n",
    "\n",
    "    - Tópico 1: **\"Educación y Salud de Calidad y Gratuitas\"**: Las palabras \"calidad\", \"derecho\", \"gratuito\", \"garantizado\", \"salud\" y \"educación\" tienen un enfoque en la calidad de los servicios de educación y salud y su acceso gratuito, garantizado y de calidad.\n",
    "\n",
    "    - Tópico 2: **\"Salud y Derechos de Vida\"**: Se menciona en este tópico \"digno\", \"salud\", \"garantizar\", \"derecho_vida\" y \"aborto\", por lo tanto, existe un enfoque en la salud y los derechos relacionados con la vida y la dignidad.\n",
    "\n",
    "    - Tópico 3: **\"Desentralización y Justicia Económica\"**: Las palabras \"derecho\", \"persona\", \"región\", \"descentralización\", y \"económico\" sugieren un enfoque en la descentralización y la justicia económica.\n",
    "    \n",
    "    - Tópico 4: **\"Acceso y Valores Sociales\"**: Las palabras \"derecho\", \"justicia\", \"salud\", \"acceso\", \"valor\", \"calidad\", indican un enfoque en el acceso a derechos y valores sociales fundamentales.\n",
    "\n",
    "    - Tópico 5: **\"Justicia e Igualdad\"**: Las palabras \"justicia\", \"igualdad\", \"vida\", \"decisión\", y \"región\" sugieren un enfoque en la justicia y la igualdad de derechos.\n",
    "\n",
    "    - Tópico 6: **\"Calidad de Vida y Salud\"**: Este tópico incluye \"vida\", \"calidad\", \"persona\", \"garantizar\", \"salud\", y \"derecho_vida\", lo que sugiere un enfoque en la calidad de vida y la salud.\n",
    "\n",
    "    - Tópico 7: **\"Desarrollo Regional y Descentralización\"**: Las palabras \"región\", \"persona\", \"desarrollo\", \"decisión\", \"descentralización\", y \"principio\" indican un enfoque en el desarrollo regional y la descentralización.\n",
    "\n",
    "    - Tópico 8: **\"Calidad de Vida y Recursos\"**: Las palabras \"calidad\", \"vida\", \"salud\", \"acceso\", \"digno\", y \"recurso\", sugieren un enfoque en la calidad de vida y el acceso a recursos.\n",
    "\n",
    "    - Tópico 9: **\"Justicia Social y Educación\"**: Las palabras \"derecho\", \"justicia\", \"calidad\", \"social\", \"educación\", y \"igualdad\" indican un enfoque en la justicia social y la educación."
   ]
  },
  {
   "cell_type": "markdown",
   "metadata": {},
   "source": [
    "### **4.- Evaluación de la variabilidad en la Coherencia Semántica.**"
   ]
  },
  {
   "cell_type": "markdown",
   "metadata": {},
   "source": [
    "Para determinar si la diferencia observada en la Coherencia Semántica es producto del cambio en la forma de cálculo o una variación aleatoria inherente a los modelos, se puede considerar lo siguiente:\n",
    "\n",
    "- **Revisión con expertos (Cualitativa).**\n",
    "    Una opción es revisar manualmente los temas generados por cada método y evaluar la Coherencia y relevancia de cada tema. Posteriormente, consultando a expertos en el dominio para validad la interpretabilidad y calidad de los temas identificados.\n",
    "\n",
    "- **Análisis Estadístico.**\n",
    "    Una forma alternativa, sería calcular los promedios y desviaciones estándar de las Coherencias Semánticas obtenidas de multiples ejecuciones, y luego, utilizando pruebas estadísticas, como la prueba t-Student, comparar las medias de coherencia entre los dos métodos. En este caso, una diferencia significativa indicaría que el cambio en la forma de cálculo es la causa principal de la diferencia observada.\n",
    "\n",
    "- **Visualización de la Variabilidad.**\n",
    "    Finalmente, se podrían utilizar visualizaciones como diagramas de caja (boxplots) para analizar la distribución de los valores de Coherencia Semántica para cada método a través de múltiples ejecuciones, enfocándose en la variabilidad interna de cada método en comparación con la diferencia entre métodos."
   ]
  },
  {
   "cell_type": "markdown",
   "metadata": {},
   "source": [
    "## **F. Análisis de Resultados**"
   ]
  },
  {
   "cell_type": "markdown",
   "metadata": {},
   "source": [
    "**1. Creación de Bigramas y Entrenamiento LDA.**\n",
    "\n",
    "- Creación de Bigramas.\n",
    "    - Se filtraron aquellos que aparecían al menos 3 veces y estableciendo un umbral de 6 para considerar un par de palabras como un bigrama significativo.\n",
    "    - En este caso, se pueden probar con distintas configuraciones de los hiperparámetros y entrenar nuevos modelos LDA.\n",
    "\n",
    "- Preparación del Corpus.\n",
    "    - Se utilizó la matriz TF-IDF utilizando los bigramas generados.\n",
    "    - Para esta tarea no se utilizó la matriz DTM, sin embargo, podría ser considerada de forma alternativa.\n",
    "\n",
    "- Entrenamiento del modelo LDA.\n",
    "    - Se entrenaron varios modelos LDA con diferentes números de tópicos (4, 6, 8 y 10) para identificar el número óptimo de tópicos basados en la coherencia semántica, los cuales se evaluaron como se explica a continuación.\n",
    "\n",
    "**2. Evaluación de la Coherencia Semántica.**\n",
    "Se evaluaron los modelos LDA entrenados utilizando dos métodos de coherencia semántica: 'u_mass' y 'c_v'.\n",
    "\n",
    "- Coherencia obtenida mediante el método 'u_mass': \n",
    "    - Mostró una tendencia descendente a medida que aumentaba el número de tópicos.\n",
    "    - La coherencia más alta se obseró con 2 tópicos y disminuyó continuamente hasta 10 tópicos. Por lo tanto, según este método, los modelos con menos tópicos tienden a ser más coherentes.\n",
    "        \n",
    "- Coherencia obtenida mediante el método 'c_v':\n",
    "    - Mostró una tendencia ascendente con varios peaks, especialmente en 10 tópicos.\n",
    "    - La tendencia ascendente sugiere que la coherencia mejora con un mayor número de tópicos, lo que indica una mayor granularidad y especificidad en los temas identificados.\n",
    "\n",
    "**3. Análisis de Resultados entre 5, 6, 8 y 10 tópicos.**\n",
    "\n",
    "- Modelo con 5 Tópicos: En este caso los temas son amplios y generales, abarcando aspectos como derechos, calidad de vida, salud y justicia, sin embargo, se percibe que no captura sistemas específicos, por lo tanto, podría ser considerado como un modelo para obtener una visión general de los principales temas del corpus.\n",
    "\n",
    "- Modelo con 6 Tópicos: En este caso, los temas se detallan un poco más, permitiendo identificar áreas específicas como descentralización, justicia económica y acceso a derechos sociales. Se percibe que proporciona un equilibrio entre detalle y manejabilidad, siendo útil posiblemente en aplicaciones de análisis más profundos sin perder coherencia.\n",
    "\n",
    "- Modelo con 8 Tópicos: Este modelo ofrece una descomposición aún mayor de los temas, permitiendo identificar con claridad subtemas como desarrollo regional, igualdad y recursos. Por lo tanto, como cuenta con una mayor especificidad, podría ser aplicable a estudios donde se requiere un análisis detallado, especificando entre diferentes áreas temáticas.\n",
    "\n",
    "-  Modelo con 10 Tópicos: Este modelo ofrece la mayor granularidad, descomponiendo los temas en componentes muy específicos, como desarrollo regional, salud y derechos de vida, justicia social y educación.  Por lo tanto, puede ser útil para un análisis más profundo y detallado, sin embargo, los temas pueden superponerse afectando a la interpretación de los tópicos."
   ]
  },
  {
   "cell_type": "markdown",
   "metadata": {},
   "source": [
    "# **III.- Conclusión**"
   ]
  },
  {
   "cell_type": "markdown",
   "metadata": {},
   "source": [
    "- En la creación de bigramas, se utilizaron los parámetros min_count=3 y threshold=6, lo cual permitió mejorar la interpretabilidad de los tópicos generados por los modelos LDA. Sin embargo, es recomendable probar nuevos modelos de bigramas con distintos hiperparámetros para evaluar cuál obtiene un mejor desempeño en la evaluación de coherencia semántica.\n",
    "\n",
    "- La evaluación de la coherencia semántica mediante el método c_v permitió considerar 10 tópicos, algo que no se había visualizado en evaluaciones previas. Esto proporcionó una mayor granularidad y descomposición de los temas de forma más específica, mejorando la calidad y la interpretabilidad de los resultados.\n",
    "\n",
    "- En cuanto a la elección final del número de tópicos, depende del nivel de detalle y especificidad requerido para el análisis:\n",
    "\n",
    "    - 5 tópicos proporcionan una visión general de los temas principales, siendo útil para obtener una visión rápida y general de los datos.\n",
    "    - 6 tópicos ofrecen un buen equilibrio entre detalle y manejabilidad, permitiendo identificar áreas específicas sin perder la coherencia global.\n",
    "    - 8 tópicos permiten una mayor diferenciación de subtemas específicos, lo cual es beneficioso para un análisis más detallado y enfocado.\n",
    "    - 10 tópicos sería ideal para estudios mas detallados, ya que ayudaría a realizar un análisis mas granular, aunque potencialmente más difícil de interpretar.\n",
    "\n",
    "- Finalmente para la etapa de etiquetado, se podría proveer los grupos de tópicos a un grupo de expertos en el tema para que evalúen cualitativamente la bondad de ajuste de la palabra a la categoría, de forma de validar el análisis, asegurando que los tópicos identificados sean relevantes y significativos en el contexto del dominio específico."
   ]
  }
 ],
 "metadata": {
  "kernelspec": {
   "display_name": "Python 3",
   "language": "python",
   "name": "python3"
  },
  "language_info": {
   "codemirror_mode": {
    "name": "ipython",
    "version": 3
   },
   "file_extension": ".py",
   "mimetype": "text/x-python",
   "name": "python",
   "nbconvert_exporter": "python",
   "pygments_lexer": "ipython3",
   "version": "3.9.19"
  }
 },
 "nbformat": 4,
 "nbformat_minor": 2
}
